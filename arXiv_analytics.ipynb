{
  "nbformat": 4,
  "nbformat_minor": 0,
  "metadata": {
    "colab": {
      "name": "arXiv_analytics.ipynb",
      "private_outputs": true,
      "provenance": [],
      "authorship_tag": "ABX9TyMIrI0YTH/ufinehppCvt4m",
      "include_colab_link": true
    },
    "kernelspec": {
      "name": "python3",
      "display_name": "Python 3"
    }
  },
  "cells": [
    {
      "cell_type": "markdown",
      "metadata": {
        "id": "view-in-github",
        "colab_type": "text"
      },
      "source": [
        "<a href=\"https://colab.research.google.com/github/vanchanr/arXiv_analytics/blob/main/arXiv_analytics.ipynb\" target=\"_parent\"><img src=\"https://colab.research.google.com/assets/colab-badge.svg\" alt=\"Open In Colab\"/></a>"
      ]
    },
    {
      "cell_type": "code",
      "metadata": {
        "id": "spGkaBtqXdei"
      },
      "source": [
        "!pip3 install xmltodict"
      ],
      "execution_count": null,
      "outputs": []
    },
    {
      "cell_type": "code",
      "metadata": {
        "id": "gr2g4myFXHeV"
      },
      "source": [
        "import xmltodict\n",
        "import requests\n",
        "import json\n",
        "import time\n",
        "import re"
      ],
      "execution_count": null,
      "outputs": []
    },
    {
      "cell_type": "code",
      "metadata": {
        "id": "h89Hi_kGXktx"
      },
      "source": [
        "def cleanSpaces(s):\n",
        "    s = s.replace('\\n', ' ')\n",
        "    s = re.sub(r'\\s\\s+', ' ', s)\n",
        "    return s\n",
        "\n",
        "def createPaper(paper):\n",
        "    for field in ['author', 'category']:\n",
        "        if type(paper[field]) is not list:\n",
        "            paper[field] = [paper[field]]\n",
        "    return {\n",
        "        'title': cleanSpaces(paper['title']),\n",
        "        'author': [author['name'] for author in paper['author']],\n",
        "        'abstract': cleanSpaces(paper['summary']),\n",
        "        'lastUpdated': paper['updated'],\n",
        "        'category': [category['@term'] for category in paper['category']],\n",
        "        'url': paper['id']\n",
        "    }"
      ],
      "execution_count": null,
      "outputs": []
    },
    {
      "cell_type": "code",
      "metadata": {
        "id": "vEsDXCTrXpEF"
      },
      "source": [
        "url = 'http://export.arxiv.org/api/query'\n",
        "\n",
        "keyword = input(\"Enter the keyword to search papers: \")\n",
        "queryParams = {\n",
        "    'search_query': 'all:{}'.format(keyword),\n",
        "    'start': 0,\n",
        "    'max_results': 200\n",
        "}\n",
        "\n",
        "outLs = []\n",
        "batch = 1\n",
        "while batch <= 10:\n",
        "    try:\n",
        "        resp = requests.get(url, params=queryParams)\n",
        "        resp = xmltodict.parse(resp.text)\n",
        "        resp = resp['feed']\n",
        "        if 'entry' in resp:\n",
        "            for paper in resp['entry']:\n",
        "                paper = createPaper(paper)\n",
        "                outLs.append(paper)\n",
        "            print(\"Batch-{}: processed {} papers\".format(batch, len(resp['entry'])))\n",
        "        else:\n",
        "            break\n",
        "    except:\n",
        "        print(\"Error while processing batch-{}\".format(batch))\n",
        "    batch += 1\n",
        "    queryParams['start'] += 200\n",
        "    time.sleep(0.5)\n",
        "print(\"Total processed papers:\", len(outLs))\n",
        "try:\n",
        "    with open('{}.json'.format(keyword), mode='w', encoding='utf-8') as jsonFile:\n",
        "        json.dump(outLs, jsonFile, indent=2, ensure_ascii=False)\n",
        "        print(\"Successfully created the json dump file !\")\n",
        "except:\n",
        "    print(\"Error while creating json dump file\")"
      ],
      "execution_count": null,
      "outputs": []
    },
    {
      "cell_type": "code",
      "metadata": {
        "id": "AUXLAEY8YEjy"
      },
      "source": [
        "!ls"
      ],
      "execution_count": null,
      "outputs": []
    },
    {
      "cell_type": "code",
      "metadata": {
        "id": "gLZIOZzSYHVy"
      },
      "source": [
        "import json\n",
        "import numpy as np\n",
        "import matplotlib.pyplot as plt\n",
        "from datetime import datetime"
      ],
      "execution_count": null,
      "outputs": []
    },
    {
      "cell_type": "code",
      "metadata": {
        "id": "wkXBYEWLYMcf"
      },
      "source": [
        "def plotHelper(plotBy, countData):\n",
        "    plt.bar(countData.keys(), countData.values())\n",
        "    for key in countData:\n",
        "        plt.text(key, countData[key], str(countData[key]), va='bottom', ha='center')\n",
        "    plt.title('Number of Papers by {}'.format(plotBy))\n",
        "    plt.xlabel(plotBy)\n",
        "    plt.ylabel('Count')\n",
        "    plt.xticks(rotation=30)\n",
        "    plt.show()\n",
        "\n",
        "def plotYearWise(jsonDump):\n",
        "    yearCountData = {}\n",
        "    for paper in jsonDump:\n",
        "        lastUpdated = paper['lastUpdated']\n",
        "        dt = datetime.strptime(lastUpdated, '%Y-%m-%dT%H:%M:%SZ')\n",
        "        year = str(dt.year)\n",
        "        if year in yearCountData:\n",
        "            yearCountData[year] += 1\n",
        "        else:\n",
        "            yearCountData[year] = 1\n",
        "    \n",
        "    yearCountData = dict(sorted(yearCountData.items()))\n",
        "    plotHelper('year', yearCountData)\n",
        "\n",
        "#field: 'author', 'category'\n",
        "#plot top 10\n",
        "def plotFieldWise(jsonDump, field):\n",
        "    if field in ['author', 'category']:\n",
        "        data = {}\n",
        "        for paper in jsonDump:\n",
        "            for name in paper[field]:\n",
        "                if name in data:\n",
        "                    data[name] += 1\n",
        "                else:\n",
        "                    data[name] = 1\n",
        "        data = dict(sorted(data.items(), key=lambda x: x[1], reverse=True)[:10])\n",
        "        plotHelper(field, data)"
      ],
      "execution_count": null,
      "outputs": []
    },
    {
      "cell_type": "code",
      "metadata": {
        "id": "g_zkUQUAYWDM"
      },
      "source": [
        "researchArea = input(\"Enter the filename without '.json': \")\n",
        "jsonDump = {}\n",
        "with open('{}.json'.format(researchArea), mode='r') as jsonFile:\n",
        "    jsonDump = json.load(jsonFile)"
      ],
      "execution_count": null,
      "outputs": []
    },
    {
      "cell_type": "code",
      "metadata": {
        "id": "503dSfLtYf12"
      },
      "source": [
        "plotYearWise(jsonDump)"
      ],
      "execution_count": null,
      "outputs": []
    },
    {
      "cell_type": "code",
      "metadata": {
        "id": "WoYt71nWYhRk"
      },
      "source": [
        "plotFieldWise(jsonDump, 'author')"
      ],
      "execution_count": null,
      "outputs": []
    },
    {
      "cell_type": "code",
      "metadata": {
        "id": "S5jmqfTYYlCe"
      },
      "source": [
        "plotFieldWise(jsonDump, 'category')"
      ],
      "execution_count": null,
      "outputs": []
    }
  ]
}